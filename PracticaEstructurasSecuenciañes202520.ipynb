{
  "nbformat": 4,
  "nbformat_minor": 0,
  "metadata": {
    "colab": {
      "provenance": [],
      "authorship_tag": "ABX9TyPOr1G+6CeR3R/69pSYOIG9",
      "include_colab_link": true
    },
    "kernelspec": {
      "name": "python3",
      "display_name": "Python 3"
    },
    "language_info": {
      "name": "python"
    }
  },
  "cells": [
    {
      "cell_type": "markdown",
      "metadata": {
        "id": "view-in-github",
        "colab_type": "text"
      },
      "source": [
        "<a href=\"https://colab.research.google.com/github/AlejandraL2009/PracticaEstructuraSecuenciales/blob/main/PracticaEstructurasSecuencia%C3%B1es202520.ipynb\" target=\"_parent\"><img src=\"https://colab.research.google.com/assets/colab-badge.svg\" alt=\"Open In Colab\"/></a>"
      ]
    },
    {
      "cell_type": "markdown",
      "source": [
        "#Ejercicios de Práctica con Estructuras Secuenciales\n",
        "**Curso:** Fundamentos de Programación\n",
        "\n",
        "**Presentado por:** Alejandra Lopera\n",
        "\n",
        "**Email:**\n",
        "\n",
        "**Fecha:**\n",
        "\n",
        "\n",
        "\n"
      ],
      "metadata": {
        "id": "NFi1dLuRTAYo"
      }
    },
    {
      "cell_type": "markdown",
      "source": [
        "##\n",
        "-Diseña un programa que muestre la siguinte información:\n",
        "- tu nombre\n",
        "- tu dirrección, con ciudad, estado y codigo postal\n",
        "- tu numero de telefono\n",
        "- tu especialización\n",
        "## pseudocodigo\n",
        "```\n",
        "program personal_info\n",
        "start\n",
        "  Declare String name, address, city, state, zip, phone, career\n",
        "\n",
        "  Display \"programa de Información personal\"\n",
        "  Display \"Ingrese su nombre:\"\n",
        "  Input name\n",
        "  Display \"Ingrese su dirrección:\"\n",
        "  Input address\n",
        "  Display \"Ingrese su ciudad:\"\n",
        "  Input city\n",
        "  Display \"Ingrese su Estado:\"\n",
        "  Input state\n",
        "  Display \"Ingrese su postal:\"\n",
        "  Input zip\n",
        "  Display \"Ingrese su numero telefonico:\"\n",
        "  Input phone\n",
        "  Display \"Ingrese su carrera:\"\n",
        "  Input career\n",
        "\n",
        "  Display \"información personal: \"\n",
        "  Display \"Nombre: \", name\n",
        "  Display \"dirrección: \", address\n",
        "  Display \"Ciudad: \", city\n",
        "  Display \"Estado: \", state\n",
        "  Display \"Codigo postal: \", zip\n",
        "  Display\" Numero telefónico: \", phone\n",
        "  Display \"carrera: \", career\n",
        "End\n",
        "  \n",
        "  \n",
        "\n",
        "\n",
        "```\n"
      ],
      "metadata": {
        "id": "aPcULANTW1S7"
      }
    },
    {
      "cell_type": "code",
      "source": [
        "# Programa para Información Personal\n",
        "\n",
        "print (\"programa de Información personal\")\n",
        "\n",
        "#Variables\n",
        "name = input(\"Ingrese su nombre:\")\n",
        "address = input(\"Ingrese su dirrección:\")\n",
        "city = input(\"Ingrese su ciudad:\")\n",
        "state = input(\"Ingrese su Estado:\")\n",
        "zip = input(\"Ingrese su postal:\")\n",
        "phone = input(\"Ingrese su numero telefonico:\")\n",
        "career = input(\"Ingrese su carrera:\")\n",
        "\n",
        "print(\"información personal: \")\n",
        "print(\"Nombre: \", name)\n",
        "print(\"dirrección: \", address)\n",
        "print(\"Ciudad: \", city)\n",
        "print(\"Estado: \", state)\n",
        "print(\"Codigo postal: \", zip)\n",
        "print(\"Numero telefónico: \", phone)\n",
        "print(\"carrera: \", career)"
      ],
      "metadata": {
        "colab": {
          "base_uri": "https://localhost:8080/"
        },
        "id": "yox8EDW2cgCH",
        "outputId": "61e34ceb-4d3c-451b-bf92-8a49b1b8fde1"
      },
      "execution_count": 2,
      "outputs": [
        {
          "output_type": "stream",
          "name": "stdout",
          "text": [
            "programa de Información personal\n",
            "Ingrese su nombre:ale\n",
            "Ingrese su dirrección:12\n",
            "Ingrese su ciudad:monteria\n",
            "Ingrese su Estado:123\n",
            "Ingrese su postal:1234\n",
            "Ingrese su numero telefonico:12345\n",
            "Ingrese su carrera:elec\n",
            "información personal: \n",
            "Nombre:  ale\n",
            "dirrección:  12\n",
            "Ciudad:  monteria\n",
            "Estado:  123\n",
            "Codigo postal:  1234\n",
            "Numero telefónico:  12345\n",
            "carrera:  elec\n"
          ]
        }
      ]
    },
    {
      "cell_type": "code",
      "source": [],
      "metadata": {
        "id": "dRv3kscCebrG"
      },
      "execution_count": null,
      "outputs": []
    }
  ]
}